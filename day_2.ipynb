{
 "cells": [
  {
   "cell_type": "code",
   "execution_count": 19,
   "metadata": {},
   "outputs": [
    {
     "name": "stdout",
     "output_type": "stream",
     "text": [
      "9177\n"
     ]
    }
   ],
   "source": [
    "# Part I\n",
    "\n",
    "with open(\"day_2_inputs.txt\") as file:\n",
    "    guide = file.readlines()\n",
    "\n",
    "value = {'X': 1, 'Y': 2, 'Z': 3}\n",
    "wins = ('C X', 'A Y', 'B Z')\n",
    "ties = ('A X', 'B Y', 'C Z')\n",
    "\n",
    "score = 0\n",
    "\n",
    "for round in guide:\n",
    "    round = round.strip()\n",
    "    score += value[round[-1]]\n",
    "    if round in wins:\n",
    "        score += 6\n",
    "    elif round in ties:\n",
    "        score += 3\n",
    "\n",
    "print(score)"
   ]
  },
  {
   "cell_type": "code",
   "execution_count": 18,
   "metadata": {},
   "outputs": [
    {
     "name": "stdout",
     "output_type": "stream",
     "text": [
      "12111\n"
     ]
    }
   ],
   "source": [
    "# Part II\n",
    "\n",
    "with open(\"day_2_inputs.txt\") as file:\n",
    "    guide = file.readlines()\n",
    "\n",
    "value = {'A': 1, 'B': 2, 'C': 3}\n",
    "wins = {'C': 'A', 'A': 'B', 'B': 'C'} # Z\n",
    "loss = {'A': 'C', 'B': 'A', 'C': 'B'} # X\n",
    "\n",
    "score = 0\n",
    "\n",
    "for round in guide:\n",
    "    oppo, stat = round.strip().split()\n",
    "\n",
    "    if stat == 'X':\n",
    "        hand = loss[oppo]\n",
    "        score += value[hand]\n",
    "    elif stat == 'Y':\n",
    "        hand = oppo\n",
    "        score += (value[hand] + 3)\n",
    "    else:\n",
    "        hand = wins[oppo]\n",
    "        score += (value[hand] + 6)\n",
    "\n",
    "print(score)"
   ]
  }
 ],
 "metadata": {
  "kernelspec": {
   "display_name": "Python 3.10.3 64-bit ('3.10.3')",
   "language": "python",
   "name": "python3"
  },
  "language_info": {
   "codemirror_mode": {
    "name": "ipython",
    "version": 3
   },
   "file_extension": ".py",
   "mimetype": "text/x-python",
   "name": "python",
   "nbconvert_exporter": "python",
   "pygments_lexer": "ipython3",
   "version": "3.10.3"
  },
  "orig_nbformat": 4,
  "vscode": {
   "interpreter": {
    "hash": "0b332b316f6c45ef3cc974b7bdab279660c6dedf4665d42282a7c2a5776b0430"
   }
  }
 },
 "nbformat": 4,
 "nbformat_minor": 2
}
