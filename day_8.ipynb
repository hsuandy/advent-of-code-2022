{
 "cells": [
  {
   "cell_type": "code",
   "execution_count": 1,
   "metadata": {},
   "outputs": [],
   "source": [
    "# Setup\n",
    "\n",
    "import pandas as pd\n",
    "from numpy import prod\n",
    "\n",
    "with open(\"day_8_inputs.txt\") as file:\n",
    "    trees = [list(line) for line in file.read().splitlines()]\n",
    "\n",
    "tree_grid = pd.DataFrame(trees)"
   ]
  },
  {
   "cell_type": "code",
   "execution_count": 2,
   "metadata": {},
   "outputs": [
    {
     "name": "stdout",
     "output_type": "stream",
     "text": [
      "1812\n"
     ]
    }
   ],
   "source": [
    "# Part I\n",
    "\n",
    "total = 0 + len(tree_grid)*2 + len(tree_grid.columns)*2 - 4 # Include the trees on the edges but don't double-count the overlapping trees on the corners\n",
    "\n",
    "for row in range(1, len(tree_grid)-1):\n",
    "    for col in range(1, len(tree_grid.columns)-1):\n",
    "        tree = tree_grid.iloc[row, col]\n",
    "        above = max(tree_grid.iloc[:row, col])\n",
    "        below = max(tree_grid.iloc[row+1:, col])\n",
    "        left = max(tree_grid.iloc[row, :col])\n",
    "        right = max(tree_grid.iloc[row, col+1:])\n",
    "\n",
    "        if tree > above or tree > below or tree > left or tree > right:\n",
    "            total += 1\n",
    "\n",
    "print(total)"
   ]
  },
  {
   "cell_type": "code",
   "execution_count": 3,
   "metadata": {},
   "outputs": [
    {
     "name": "stdout",
     "output_type": "stream",
     "text": [
      "315495\n"
     ]
    }
   ],
   "source": [
    "# Part II\n",
    "\n",
    "scores = []\n",
    "\n",
    "for row in range(1, len(tree_grid)-1):\n",
    "    for col in range(1, len(tree_grid.columns)-1):\n",
    "        tree = int(tree_grid.iloc[row, col])\n",
    "        above = list(tree_grid.iloc[:row, col])\n",
    "        below = list(tree_grid.iloc[row+1:, col])\n",
    "        left = list(tree_grid.iloc[row, :col])\n",
    "        right = list(tree_grid.iloc[row, col+1:])\n",
    "\n",
    "        scenic_score = {\n",
    "            \"above\": 0,\n",
    "            \"below\": 0,\n",
    "            \"left\": 0,\n",
    "            \"right\": 0\n",
    "        }\n",
    "\n",
    "        for a in [int(n) for n in reversed(above)]: # Viewing from bottom to top\n",
    "            if tree > a:\n",
    "                scenic_score[\"above\"] += 1\n",
    "            elif tree <= a:\n",
    "                scenic_score[\"above\"] += 1\n",
    "                break\n",
    "\n",
    "        for b in [int(n) for n in below]:\n",
    "            if tree > b:\n",
    "                scenic_score[\"below\"] += 1\n",
    "            elif tree <= b:\n",
    "                scenic_score[\"below\"] += 1\n",
    "                break\n",
    "\n",
    "        for l in [int(n) for n in reversed(left)]: # Viewing from right to left\n",
    "            if tree > l:\n",
    "                scenic_score[\"left\"] += 1\n",
    "            elif tree <= l:\n",
    "                scenic_score[\"left\"] += 1\n",
    "                break\n",
    "\n",
    "        for r in [int(n) for n in right]:\n",
    "            if tree > r:\n",
    "                scenic_score[\"right\"] += 1\n",
    "            elif tree <= r:\n",
    "                scenic_score[\"right\"] += 1\n",
    "                break\n",
    "\n",
    "        scores.append(prod(list(scenic_score.values())))\n",
    "\n",
    "print(max(scores))"
   ]
  }
 ],
 "metadata": {
  "kernelspec": {
   "display_name": "Python 3",
   "language": "python",
   "name": "python3"
  },
  "language_info": {
   "codemirror_mode": {
    "name": "ipython",
    "version": 3
   },
   "file_extension": ".py",
   "mimetype": "text/x-python",
   "name": "python",
   "nbconvert_exporter": "python",
   "pygments_lexer": "ipython3",
   "version": "3.10.4"
  },
  "orig_nbformat": 4,
  "vscode": {
   "interpreter": {
    "hash": "0f2349b3ddcd68ac02ba45e33bf464dc5e32f6eef7d935984e8bee09b46035fa"
   }
  }
 },
 "nbformat": 4,
 "nbformat_minor": 2
}
