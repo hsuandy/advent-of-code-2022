{
 "cells": [
  {
   "cell_type": "code",
   "execution_count": 1,
   "metadata": {},
   "outputs": [
    {
     "name": "stdout",
     "output_type": "stream",
     "text": [
      "560\n"
     ]
    }
   ],
   "source": [
    "# Part I\n",
    "\n",
    "with open(\"day_4_inputs.txt\") as file:\n",
    "    pairs = file.read().splitlines()\n",
    "\n",
    "contained = 0\n",
    "\n",
    "for pair in pairs:\n",
    "    e1, e2 = pair.split(\",\")\n",
    "    e1_start, e1_end = (int(n) for n in e1.split(\"-\"))\n",
    "    e2_start, e2_end = (int(n) for n in e2.split(\"-\"))\n",
    "\n",
    "    if (e1_start >= e2_start and e1_end+1 <= e2_end+1) or (e2_start >= e1_start and e2_end+1 <= e1_end+1):\n",
    "        contained += 1\n",
    "\n",
    "print(contained)"
   ]
  },
  {
   "cell_type": "code",
   "execution_count": 2,
   "metadata": {},
   "outputs": [
    {
     "name": "stdout",
     "output_type": "stream",
     "text": [
      "839\n"
     ]
    }
   ],
   "source": [
    "# Part II\n",
    "\n",
    "from collections import Counter\n",
    "\n",
    "with open(\"day_4_inputs.txt\") as file:\n",
    "    pairs = file.read().splitlines()\n",
    "\n",
    "overlaps = 0\n",
    "\n",
    "for pair in pairs:\n",
    "    e1, e2 = pair.split(\",\")\n",
    "    e1_start, e1_end = (int(n) for n in e1.split(\"-\"))\n",
    "    e2_start, e2_end = (int(n) for n in e2.split(\"-\"))\n",
    "    e1_sectors = [sector for sector in range(e1_start, e1_end+1)]\n",
    "    e2_sectors = [sector for sector in range(e2_start, e2_end+1)]\n",
    "    all_sectors = Counter(e1_sectors + e2_sectors)\n",
    "\n",
    "    if all_sectors.most_common(1)[0][1] > 1:\n",
    "        overlaps += 1\n",
    "\n",
    "print(overlaps)"
   ]
  }
 ],
 "metadata": {
  "kernelspec": {
   "display_name": "Python 3.10.4 64-bit ('3.10.4')",
   "language": "python",
   "name": "python3"
  },
  "language_info": {
   "codemirror_mode": {
    "name": "ipython",
    "version": 3
   },
   "file_extension": ".py",
   "mimetype": "text/x-python",
   "name": "python",
   "nbconvert_exporter": "python",
   "pygments_lexer": "ipython3",
   "version": "3.10.4"
  },
  "orig_nbformat": 4,
  "vscode": {
   "interpreter": {
    "hash": "0f2349b3ddcd68ac02ba45e33bf464dc5e32f6eef7d935984e8bee09b46035fa"
   }
  }
 },
 "nbformat": 4,
 "nbformat_minor": 2
}
