{
 "cells": [
  {
   "cell_type": "code",
   "execution_count": 1,
   "metadata": {},
   "outputs": [],
   "source": [
    "# Setup\n",
    "\n",
    "with open(\"day_6_inputs.txt\") as file:\n",
    "    datastream = file.read()"
   ]
  },
  {
   "cell_type": "code",
   "execution_count": 2,
   "metadata": {},
   "outputs": [
    {
     "name": "stdout",
     "output_type": "stream",
     "text": [
      "1625\n"
     ]
    }
   ],
   "source": [
    "# Part I\n",
    "\n",
    "start = 0\n",
    "end = 4\n",
    "\n",
    "while True:\n",
    "    if len(set(datastream[start:end])) == 4:\n",
    "        print(end)\n",
    "        break\n",
    "    else:\n",
    "        start += 1\n",
    "        end += 1"
   ]
  },
  {
   "cell_type": "code",
   "execution_count": 3,
   "metadata": {},
   "outputs": [
    {
     "name": "stdout",
     "output_type": "stream",
     "text": [
      "2250\n"
     ]
    }
   ],
   "source": [
    "# Part II\n",
    "\n",
    "start = 0\n",
    "end = 14\n",
    "\n",
    "while True:\n",
    "    if len(set(datastream[start:end])) == 14:\n",
    "        print(end)\n",
    "        break\n",
    "    else:\n",
    "        start += 1\n",
    "        end += 1"
   ]
  }
 ],
 "metadata": {
  "kernelspec": {
   "display_name": "Python 3.10.4 64-bit ('3.10.4')",
   "language": "python",
   "name": "python3"
  },
  "language_info": {
   "codemirror_mode": {
    "name": "ipython",
    "version": 3
   },
   "file_extension": ".py",
   "mimetype": "text/x-python",
   "name": "python",
   "nbconvert_exporter": "python",
   "pygments_lexer": "ipython3",
   "version": "3.10.4"
  },
  "orig_nbformat": 4,
  "vscode": {
   "interpreter": {
    "hash": "0f2349b3ddcd68ac02ba45e33bf464dc5e32f6eef7d935984e8bee09b46035fa"
   }
  }
 },
 "nbformat": 4,
 "nbformat_minor": 2
}
