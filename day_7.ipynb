{
 "cells": [
  {
   "cell_type": "code",
   "execution_count": 1,
   "metadata": {},
   "outputs": [],
   "source": [
    "# Setup\n",
    "\n",
    "with open(\"day_7_inputs.txt\") as file:\n",
    "    history = file.read().splitlines()"
   ]
  },
  {
   "cell_type": "code",
   "execution_count": 2,
   "metadata": {},
   "outputs": [
    {
     "name": "stdout",
     "output_type": "stream",
     "text": [
      "1348005\n"
     ]
    }
   ],
   "source": [
    "# Part I\n",
    "\n",
    "import copy\n",
    "\n",
    "paths = {}\n",
    "path = []\n",
    "\n",
    "for entry in history:\n",
    "    args = entry.split()\n",
    "\n",
    "    # Build paths\n",
    "    if args[1] == \"cd\":\n",
    "        if args[2] != \"..\":\n",
    "            path.append(args[2])\n",
    "            segment = copy.copy(path)\n",
    "            paths[tuple(segment)] = 0\n",
    "        else:\n",
    "            path.pop()\n",
    "\n",
    "    # Aggregate size values of files encountered and add to each folder in path\n",
    "    if args[0].isdigit():\n",
    "        size = int(args[0])\n",
    "    \n",
    "        for n in range(len(path)):\n",
    "            paths[tuple(path[:n+1])] += size\n",
    "\n",
    "total = sum(value for value in paths.values() if value <= 100000)\n",
    "\n",
    "print(total)"
   ]
  },
  {
   "cell_type": "code",
   "execution_count": 3,
   "metadata": {},
   "outputs": [
    {
     "name": "stdout",
     "output_type": "stream",
     "text": [
      "12785886\n"
     ]
    }
   ],
   "source": [
    "# Part II\n",
    "\n",
    "total_disk = 70000000\n",
    "needed_space = 30000000\n",
    "current_use = paths[\"/\",]\n",
    "available_space = total_disk - current_use\n",
    "cleanup_target = needed_space - available_space\n",
    "\n",
    "deletion_size = min(val for val in paths.values() if val >= cleanup_target)\n",
    "\n",
    "print(deletion_size)"
   ]
  }
 ],
 "metadata": {
  "kernelspec": {
   "display_name": "Python 3.10.4 64-bit ('3.10.4')",
   "language": "python",
   "name": "python3"
  },
  "language_info": {
   "codemirror_mode": {
    "name": "ipython",
    "version": 3
   },
   "file_extension": ".py",
   "mimetype": "text/x-python",
   "name": "python",
   "nbconvert_exporter": "python",
   "pygments_lexer": "ipython3",
   "version": "3.10.4"
  },
  "orig_nbformat": 4,
  "vscode": {
   "interpreter": {
    "hash": "0f2349b3ddcd68ac02ba45e33bf464dc5e32f6eef7d935984e8bee09b46035fa"
   }
  }
 },
 "nbformat": 4,
 "nbformat_minor": 2
}
