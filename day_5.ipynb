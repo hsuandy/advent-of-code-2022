{
 "cells": [
  {
   "cell_type": "code",
   "execution_count": 1,
   "metadata": {},
   "outputs": [],
   "source": [
    "# Setup\n",
    "\n",
    "import pandas as pd\n",
    "import re\n",
    "import copy\n",
    "\n",
    "with open(\"day_5_inputs.txt\") as file:\n",
    "    crates = file.read(288).splitlines()\n",
    "    instructions = file.read().splitlines()[2:]\n",
    "\n",
    "clean_crates = []\n",
    "\n",
    "for crate in crates:\n",
    "    fill = re.sub(r\"\\s\\s\\s\\s\", r\" [ ]\", crate)\n",
    "    comp = re.sub(r\"] \", r\"]\", fill)\n",
    "    clean = list(re.sub(r\"\\[([A-Z ])\\]\", r\"\\1\", comp))\n",
    "    clean_crates.append(clean)\n",
    "\n",
    "stacks = pd.DataFrame(clean_crates)\n",
    "stacks.columns += 1\n",
    "conv_stacks = stacks.to_dict(orient=\"list\")\n",
    "clean_stacks = {key: [item for item in list(reversed(val)) if item != ' '] for key, val in conv_stacks.items()} # Reverse the list and remove empty elements\n",
    "\n",
    "clean_instructions = []\n",
    "\n",
    "for move in instructions:\n",
    "    clean_move = re.match(r\"\\D+([0-9]+)\\D+([0-9]+)\\D+([0-9]+)\", move)\n",
    "    clean_instructions.append((int(clean_move.group(1)), int(clean_move.group(2)), int(clean_move.group(3))))"
   ]
  },
  {
   "cell_type": "code",
   "execution_count": 2,
   "metadata": {},
   "outputs": [
    {
     "name": "stdout",
     "output_type": "stream",
     "text": [
      "T\n",
      "D\n",
      "C\n",
      "H\n",
      "V\n",
      "H\n",
      "J\n",
      "T\n",
      "G\n"
     ]
    }
   ],
   "source": [
    "# Part I\n",
    "\n",
    "cs1 = copy.deepcopy(clean_stacks)\n",
    "\n",
    "def transfer(quantity, from_stack, to_stack):\n",
    "    for n in range(quantity):\n",
    "        temp_crate = cs1[from_stack].pop()\n",
    "        cs1[to_stack].append(temp_crate)\n",
    "\n",
    "for move in clean_instructions:\n",
    "    transfer(*move)\n",
    "\n",
    "for value in cs1.values():\n",
    "    print(value[-1])"
   ]
  },
  {
   "cell_type": "code",
   "execution_count": 3,
   "metadata": {},
   "outputs": [
    {
     "name": "stdout",
     "output_type": "stream",
     "text": [
      "N\n",
      "G\n",
      "C\n",
      "M\n",
      "P\n",
      "J\n",
      "L\n",
      "H\n",
      "V\n"
     ]
    }
   ],
   "source": [
    "# Part II\n",
    "\n",
    "cs2 = copy.deepcopy(clean_stacks)\n",
    "\n",
    "def transfer2(quantity, from_stack, to_stack):\n",
    "    temp_crates = cs2[from_stack][-quantity:]\n",
    "    cs2[from_stack] = cs2[from_stack][:-quantity]\n",
    "    cs2[to_stack] += temp_crates\n",
    "\n",
    "for move in clean_instructions:\n",
    "    transfer2(*move)\n",
    "\n",
    "for value in cs2.values():\n",
    "    print(value[-1])"
   ]
  }
 ],
 "metadata": {
  "kernelspec": {
   "display_name": "Python 3.10.3 64-bit ('3.10.3')",
   "language": "python",
   "name": "python3"
  },
  "language_info": {
   "codemirror_mode": {
    "name": "ipython",
    "version": 3
   },
   "file_extension": ".py",
   "mimetype": "text/x-python",
   "name": "python",
   "nbconvert_exporter": "python",
   "pygments_lexer": "ipython3",
   "version": "3.10.3"
  },
  "orig_nbformat": 4,
  "vscode": {
   "interpreter": {
    "hash": "0b332b316f6c45ef3cc974b7bdab279660c6dedf4665d42282a7c2a5776b0430"
   }
  }
 },
 "nbformat": 4,
 "nbformat_minor": 2
}
