{
 "cells": [
  {
   "cell_type": "code",
   "execution_count": 1,
   "metadata": {},
   "outputs": [],
   "source": [
    "# Setup\n",
    "\n",
    "import numpy as np\n",
    "\n",
    "with open(\"day_10_inputs.txt\") as file:\n",
    "    program = file.read().splitlines()\n",
    "\n",
    "stack = []\n",
    "crt = {n: np.full(40, \".\") for n in range(6)}\n",
    "row = 0\n",
    "pointer = 0\n",
    "register = 1\n",
    "cycle = 1\n",
    "signals = {}\n",
    "\n",
    "def add_to_stack(instruction):\n",
    "    if instruction[0] == \"a\":\n",
    "        _, value = instruction.split()\n",
    "        stack.append(0)\n",
    "        stack.append(int(value))\n",
    "    else:\n",
    "        stack.append(0)\n",
    "\n",
    "def draw_pixel(pixel_move):\n",
    "    global pointer\n",
    "    pointer += pixel_move\n",
    "    sprite = [pointer-1, pointer, pointer+1]\n",
    "    pixel = (cycle-1) - (40*row)\n",
    "\n",
    "    if pixel in sprite:\n",
    "        crt[row][pixel] = \"#\""
   ]
  },
  {
   "cell_type": "code",
   "execution_count": 2,
   "metadata": {},
   "outputs": [
    {
     "name": "stdout",
     "output_type": "stream",
     "text": [
      "14160\n",
      "###....##.####.###..###..####.####..##..\n",
      "#..#....#.#....#..#.#..#.#....#....#..#.\n",
      "#..#....#.###..#..#.#..#.###..###..#....\n",
      "###.....#.#....###..###..#....#....#....\n",
      "#.#..#..#.#....#.#..#....#....#....#..#.\n",
      "#..#..##..####.#..#.#....####.#.....##..\n"
     ]
    }
   ],
   "source": [
    "# Parts I & II\n",
    "\n",
    "# Initialize stack to enable while loop:\n",
    "instruction = program.pop(0)\n",
    "add_to_stack(instruction)\n",
    "draw_pixel(1)\n",
    "\n",
    "while stack:\n",
    "    cycle += 1\n",
    "\n",
    "    if program:\n",
    "        instruction = program.pop(0)\n",
    "        add_to_stack(instruction)\n",
    "\n",
    "    stack_value = stack.pop(0)\n",
    "    register += stack_value\n",
    "\n",
    "    draw_pixel(stack_value)\n",
    "\n",
    "    if not cycle % 20:\n",
    "        signals[cycle] = cycle * register\n",
    "\n",
    "    if not cycle % 40:\n",
    "        row += 1\n",
    "\n",
    "print(signals[20]+signals[60]+signals[100]+signals[140]+signals[180]+signals[220])\n",
    "\n",
    "for line in crt.values():\n",
    "    print(\"\".join(line))"
   ]
  }
 ],
 "metadata": {
  "kernelspec": {
   "display_name": "Python 3",
   "language": "python",
   "name": "python3"
  },
  "language_info": {
   "codemirror_mode": {
    "name": "ipython",
    "version": 3
   },
   "file_extension": ".py",
   "mimetype": "text/x-python",
   "name": "python",
   "nbconvert_exporter": "python",
   "pygments_lexer": "ipython3",
   "version": "3.10.4"
  },
  "orig_nbformat": 4,
  "vscode": {
   "interpreter": {
    "hash": "0f2349b3ddcd68ac02ba45e33bf464dc5e32f6eef7d935984e8bee09b46035fa"
   }
  }
 },
 "nbformat": 4,
 "nbformat_minor": 2
}
