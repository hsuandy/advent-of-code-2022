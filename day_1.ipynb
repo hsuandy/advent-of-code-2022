{
 "cells": [
  {
   "cell_type": "code",
   "execution_count": 2,
   "metadata": {},
   "outputs": [
    {
     "name": "stdout",
     "output_type": "stream",
     "text": [
      "74394\n"
     ]
    }
   ],
   "source": [
    "# Part I\n",
    "\n",
    "with open(\"day_1_inputs.txt\") as file:\n",
    "    inputs = file.readlines()\n",
    "\n",
    "elves = []\n",
    "calories = 0\n",
    "\n",
    "for line in inputs:\n",
    "    if line != \"\\n\":\n",
    "        calories += int(line)\n",
    "    else:\n",
    "        elves.append(calories)\n",
    "        calories = 0\n",
    "\n",
    "print(max(elves))"
   ]
  },
  {
   "cell_type": "code",
   "execution_count": 5,
   "metadata": {},
   "outputs": [
    {
     "name": "stdout",
     "output_type": "stream",
     "text": [
      "212836\n"
     ]
    }
   ],
   "source": [
    "# Part II\n",
    "\n",
    "top_3_elves = sorted(elves, reverse=True)[:3]\n",
    "print(sum(top_3_elves))"
   ]
  }
 ],
 "metadata": {
  "kernelspec": {
   "display_name": "Python 3.10.3 64-bit ('3.10.3')",
   "language": "python",
   "name": "python3"
  },
  "language_info": {
   "codemirror_mode": {
    "name": "ipython",
    "version": 3
   },
   "file_extension": ".py",
   "mimetype": "text/x-python",
   "name": "python",
   "nbconvert_exporter": "python",
   "pygments_lexer": "ipython3",
   "version": "3.10.3"
  },
  "orig_nbformat": 4,
  "vscode": {
   "interpreter": {
    "hash": "0b332b316f6c45ef3cc974b7bdab279660c6dedf4665d42282a7c2a5776b0430"
   }
  }
 },
 "nbformat": 4,
 "nbformat_minor": 2
}
