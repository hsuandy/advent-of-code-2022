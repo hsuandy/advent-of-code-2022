{
 "cells": [
  {
   "cell_type": "code",
   "execution_count": 1,
   "metadata": {},
   "outputs": [
    {
     "name": "stdout",
     "output_type": "stream",
     "text": [
      "8123\n"
     ]
    }
   ],
   "source": [
    "# Part I\n",
    "\n",
    "from string import ascii_letters as letters\n",
    "\n",
    "with open(\"day_3_inputs.txt\") as file:\n",
    "    rucksacks = file.readlines()\n",
    "\n",
    "key = \"!\" + letters\n",
    "mistakes = []\n",
    "priority = 0\n",
    "\n",
    "for sack in rucksacks:\n",
    "    size = len(sack)//2\n",
    "    c1 = set(sack[size:])\n",
    "    c2 = set(sack[:size])\n",
    "\n",
    "    mistakes.append(\"\".join(c1.intersection(c2)))\n",
    "\n",
    "for item in mistakes:\n",
    "    priority += key.index(item)\n",
    "\n",
    "print(priority)"
   ]
  },
  {
   "cell_type": "code",
   "execution_count": 2,
   "metadata": {},
   "outputs": [
    {
     "name": "stdout",
     "output_type": "stream",
     "text": [
      "2620\n"
     ]
    }
   ],
   "source": [
    "# Part II\n",
    "\n",
    "from string import ascii_letters as letters\n",
    "\n",
    "with open(\"day_3_inputs.txt\") as file:\n",
    "    rucksacks = file.read().splitlines()\n",
    "\n",
    "key = \"!\" + letters\n",
    "group_size = len(rucksacks)+3\n",
    "badges = []\n",
    "start = 0\n",
    "priority = 0\n",
    "\n",
    "for end in range(3, group_size, 3):\n",
    "    group = []\n",
    "\n",
    "    for sack in range(start, end):\n",
    "        group.append(set(rucksacks[sack]))\n",
    "    \n",
    "    badges.append(\"\".join(group[0].intersection(group[1].intersection(group[2]))))\n",
    "    start = end\n",
    "\n",
    "for item in badges:\n",
    "    priority += key.index(item)\n",
    "\n",
    "print(priority)"
   ]
  }
 ],
 "metadata": {
  "kernelspec": {
   "display_name": "Python 3.10.4 64-bit ('3.10.4')",
   "language": "python",
   "name": "python3"
  },
  "language_info": {
   "codemirror_mode": {
    "name": "ipython",
    "version": 3
   },
   "file_extension": ".py",
   "mimetype": "text/x-python",
   "name": "python",
   "nbconvert_exporter": "python",
   "pygments_lexer": "ipython3",
   "version": "3.10.4"
  },
  "orig_nbformat": 4,
  "vscode": {
   "interpreter": {
    "hash": "0f2349b3ddcd68ac02ba45e33bf464dc5e32f6eef7d935984e8bee09b46035fa"
   }
  }
 },
 "nbformat": 4,
 "nbformat_minor": 2
}
